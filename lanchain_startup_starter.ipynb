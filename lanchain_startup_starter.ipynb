{
 "cells": [
  {
   "cell_type": "markdown",
   "id": "2c26845d",
   "metadata": {},
   "source": [
    "# Langchain business suggestion"
   ]
  },
  {
   "cell_type": "code",
   "execution_count": 16,
   "id": "f31c4cc6",
   "metadata": {},
   "outputs": [],
   "source": [
    "# from secret_key import openapi_key\n",
    "# import os\n",
    "# os.environ['OPENAI_API_KEY'] = openapi_key\n",
    "\n",
    "import os\n",
    "os.environ['OPENAI_API_KEY'] = \"sk-proj-TRD3mWtXyKBwuqE1WCxA-LSpQCsgz4bH972axTdLbgbLNHsEcTFBsT3BlbkFJ0UuxJouk76cODbvcJvWVHiY0t341MLv1SiOR8JqW6VkLvOd4wBJ5FB1WxHaxVCWizICc2iHf0A\""
   ]
  },
  {
   "cell_type": "markdown",
   "id": "9ed0dc6a",
   "metadata": {},
   "source": [
    "## LLMs"
   ]
  },
  {
   "cell_type": "code",
   "execution_count": 17,
   "id": "fa352d5f",
   "metadata": {
    "scrolled": true
   },
   "outputs": [
    {
     "name": "stdout",
     "output_type": "stream",
     "text": [
      "\n",
      "\n",
      "1. \"Number Ninjas Learning Center\"\n",
      "2. \"Math Masters Academy\"\n",
      "3. \"Geometric Genius Center\"\n",
      "4. \"Quantum Minds Learning Hub\"\n",
      "5. \"Mathemagicians Education Center\"\n",
      "6. \"Calculus Clubhouse\"\n",
      "7. \"Math Oasis Academy\"\n",
      "8. \"Numeracy Nook\"\n",
      "9. \"Algebra Avenue Learning Center\"\n",
      "10. \"Geometry Garden Academy\"\n"
     ]
    }
   ],
   "source": [
    "from langchain.llms import OpenAI\n",
    "\n",
    "llm = OpenAI(temperature=0.6)\n",
    "name = llm.predict(\"I want to open a learning center for Maths. Suggest a fency name for this.\")\n",
    "print(name)"
   ]
  },
  {
   "cell_type": "code",
   "execution_count": 18,
   "id": "b56e8581",
   "metadata": {},
   "outputs": [
    {
     "data": {
      "text/plain": [
       "'\\n\\n\"MathMinds Academy\" or \"NumberNexus Learning Center\"'"
      ]
     },
     "execution_count": 18,
     "metadata": {},
     "output_type": "execute_result"
    }
   ],
   "source": [
    "llm(\"I want to open a learning center for Math. Suggest a fency name for this.\")"
   ]
  },
  {
   "cell_type": "markdown",
   "id": "0782a2dd",
   "metadata": {},
   "source": [
    "## Prompt Templates"
   ]
  },
  {
   "cell_type": "code",
   "execution_count": 19,
   "id": "7a306b9d",
   "metadata": {
    "scrolled": true
   },
   "outputs": [
    {
     "name": "stdout",
     "output_type": "stream",
     "text": [
      "I want to oopen a learning center for Maths subject. Suggest a fency name for this.\n"
     ]
    }
   ],
   "source": [
    "from langchain.prompts import PromptTemplate\n",
    "\n",
    "prompt_template_name = PromptTemplate(\n",
    "    input_variables =['Subject'],\n",
    "    template = \"I want to oopen a learning center for {Subject} subject. Suggest a fency name for this.\"\n",
    ")\n",
    "p = prompt_template_name.format(Subject=\"Maths\")\n",
    "print(p)\n",
    "\n",
    "# print(llm.predict(p))"
   ]
  },
  {
   "cell_type": "markdown",
   "id": "af406b92",
   "metadata": {},
   "source": [
    "## Chains"
   ]
  },
  {
   "cell_type": "code",
   "execution_count": 20,
   "id": "ba65c213",
   "metadata": {
    "scrolled": true
   },
   "outputs": [
    {
     "name": "stderr",
     "output_type": "stream",
     "text": [
      "/var/folders/t3/nbc_n86n0sq7tgvt78zsnk3r0000gn/T/ipykernel_99936/144899288.py:3: LangChainDeprecationWarning: The class `LLMChain` was deprecated in LangChain 0.1.17 and will be removed in 1.0. Use :meth:`~RunnableSequence, e.g., `prompt | llm`` instead.\n",
      "  chain = LLMChain(llm=llm, prompt=prompt_template_name)\n"
     ]
    },
    {
     "data": {
      "text/plain": [
       "'\\n\\n\"Lexicon Learning Academy\"'"
      ]
     },
     "execution_count": 20,
     "metadata": {},
     "output_type": "execute_result"
    }
   ],
   "source": [
    "from langchain.chains import LLMChain\n",
    "\n",
    "chain = LLMChain(llm=llm, prompt=prompt_template_name)\n",
    "chain.run(\"English\")"
   ]
  },
  {
   "cell_type": "code",
   "execution_count": 21,
   "id": "e5ccee75",
   "metadata": {},
   "outputs": [
    {
     "name": "stdout",
     "output_type": "stream",
     "text": [
      "\n",
      "\n",
      "\u001b[1m> Entering new LLMChain chain...\u001b[0m\n",
      "Prompt after formatting:\n",
      "\u001b[32;1m\u001b[1;3mI want to oopen a learning center for English subject. Suggest a fency name for this.\u001b[0m\n",
      "\n",
      "\u001b[1m> Finished chain.\u001b[0m\n"
     ]
    },
    {
     "data": {
      "text/plain": [
       "'\\n\\n\"EnlightenED: The English Learning Center\"'"
      ]
     },
     "execution_count": 21,
     "metadata": {},
     "output_type": "execute_result"
    }
   ],
   "source": [
    "chain = LLMChain(llm=llm, prompt=prompt_template_name, verbose=True)\n",
    "chain.run(\"English\")"
   ]
  },
  {
   "cell_type": "code",
   "execution_count": 22,
   "id": "21098937",
   "metadata": {},
   "outputs": [],
   "source": [
    "llm = OpenAI(temperature=0.6)\n",
    "\n",
    "prompt_template_name = PromptTemplate(\n",
    "    input_variables =['Subject'],\n",
    "    template = \"I want to open a learning center for {Subject} subject. Suggest a fency name for this.\"\n",
    ")\n",
    "\n",
    "name_chain =LLMChain(llm=llm, prompt=prompt_template_name)\n",
    "\n",
    "prompt_template_items = PromptTemplate(\n",
    "    input_variables = ['bizz_name'],\n",
    "    template=\"\"\"Suggest some course items for {bizz_name}\"\"\"\n",
    ")\n",
    "\n",
    "course_items_chain = LLMChain(llm=llm, prompt=prompt_template_items)"
   ]
  },
  {
   "cell_type": "markdown",
   "id": "87a98d9f",
   "metadata": {},
   "source": [
    "#### Simple Sequential Chain"
   ]
  },
  {
   "cell_type": "code",
   "execution_count": 23,
   "id": "d9fd9a79",
   "metadata": {},
   "outputs": [
    {
     "name": "stdout",
     "output_type": "stream",
     "text": [
      "\n",
      "\n",
      "1. Introduction to Singaporean History and Culture\n",
      "2. Singapore's Economic Development and Global Impact\n",
      "3. Business and Entrepreneurship in Singapore\n",
      "4. Singapore's Education System: Best Practices and Innovations\n",
      "5. Sustainable Development in Singapore\n",
      "6. Singapore's Multicultural Society and Diversity Management\n",
      "7. Urban Planning and Design in Singapore\n",
      "8. Technological Advancements and Smart City Solutions in Singapore\n",
      "9. Public Policy and Governance in Singapore\n",
      "10. Singapore's Role in Southeast Asia and International Relations\n",
      "11. Singapore's Tourism Industry: Strategies and Successes\n",
      "12. Health and Wellness in Singapore: Traditional and Modern Approaches\n",
      "13. Singapore's Arts and Entertainment Scene\n",
      "14. Environmental Conservation and Sustainability Efforts in Singapore\n",
      "15. Singapore's Role in Global Trade and Finance.\n"
     ]
    }
   ],
   "source": [
    "from langchain.chains import SimpleSequentialChain\n",
    "chain = SimpleSequentialChain(chains = [name_chain, course_items_chain])\n",
    "\n",
    "content = chain.run(\"Singapore\")\n",
    "print(content)"
   ]
  },
  {
   "cell_type": "markdown",
   "id": "0386d05c",
   "metadata": {},
   "source": [
    "#### Sequential Chain"
   ]
  },
  {
   "cell_type": "code",
   "execution_count": 24,
   "id": "49dc0fae",
   "metadata": {},
   "outputs": [],
   "source": [
    "llm = OpenAI(temperature=0.7)\n",
    "\n",
    "prompt_template_name = PromptTemplate(\n",
    "    input_variables =['Subject'],\n",
    "    template = \"I want to open a learning center for {Subject} subject. Suggest a fency name for this.\"\n",
    ")\n",
    "\n",
    "name_chain =LLMChain(llm=llm, prompt=prompt_template_name, output_key=\"bizz_name\")"
   ]
  },
  {
   "cell_type": "code",
   "execution_count": 25,
   "id": "9dea8402",
   "metadata": {},
   "outputs": [],
   "source": [
    "llm = OpenAI(temperature=0.7)\n",
    "\n",
    "prompt_template_items = PromptTemplate(\n",
    "    input_variables = ['bizz_name'],\n",
    "    template=\"Suggest some course items for {bizz_name}.\"\n",
    ")\n",
    "\n",
    "course_items_chain =LLMChain(llm=llm, prompt=prompt_template_items, output_key=\"course_items\")"
   ]
  },
  {
   "cell_type": "code",
   "execution_count": 26,
   "id": "1ec1be10",
   "metadata": {},
   "outputs": [],
   "source": [
    "from langchain.chains import SequentialChain\n",
    "\n",
    "chain = SequentialChain(\n",
    "    chains = [name_chain, course_items_chain],\n",
    "    input_variables = ['Subject'],\n",
    "    output_variables = ['bizz_name', \"course_items\"]\n",
    ")"
   ]
  },
  {
   "cell_type": "code",
   "execution_count": 27,
   "id": "4653c540",
   "metadata": {},
   "outputs": [
    {
     "name": "stderr",
     "output_type": "stream",
     "text": [
      "/var/folders/t3/nbc_n86n0sq7tgvt78zsnk3r0000gn/T/ipykernel_99936/1455164893.py:1: LangChainDeprecationWarning: The method `Chain.__call__` was deprecated in langchain 0.1.0 and will be removed in 1.0. Use :meth:`~invoke` instead.\n",
      "  chain({\"Subject\": \"Maths\"})\n"
     ]
    },
    {
     "data": {
      "text/plain": [
       "{'Subject': 'Maths',\n",
       " 'bizz_name': '\\n\\n\"Number Nook Academy\"',\n",
       " 'course_items': ' \\n\\n1. Basic Arithmetic: Covering addition, subtraction, multiplication, and division for whole numbers, decimals, and fractions.\\n2. Algebra Fundamentals: Introduction to variables, equations, and solving for unknowns.\\n3. Geometry Basics: Understanding shapes, angles, area, and perimeter.\\n4. Data Analysis: Learning how to collect, organize, and interpret data using graphs and charts.\\n5. Introduction to Probability: Understanding the likelihood of events occurring.\\n6. Number Patterns and Sequences: Exploring number patterns and identifying rules.\\n7. Measurement and Conversions: Covering units of measurement for length, weight, and volume.\\n8. Advanced Algebra: Solving equations with multiple variables and quadratic equations.\\n9. Trigonometry: Introduction to triangles, trigonometric ratios, and applications.\\n10. Calculus Concepts: Basic principles of calculus, including limits, derivatives, and integrals.\\n11. Number Theory: Studying the properties and relationships of numbers, including prime numbers and divisibility.\\n12. Financial Math: Understanding interest, loans, and investments.\\n13. Real-World Applications: Applying mathematical concepts to real-life situations, such as budgeting, taxes, and statistics.\\n14. Math Games and Puzzles: Fun activities to reinforce mathematical skills and problem'}"
      ]
     },
     "execution_count": 27,
     "metadata": {},
     "output_type": "execute_result"
    }
   ],
   "source": [
    "chain({\"Subject\": \"Maths\"})"
   ]
  },
  {
   "cell_type": "code",
   "execution_count": null,
   "id": "55f07b25-05ea-4e1f-ace5-9637404c365b",
   "metadata": {},
   "outputs": [],
   "source": []
  }
 ],
 "metadata": {
  "kernelspec": {
   "display_name": "Python 3 (ipykernel)",
   "language": "python",
   "name": "python3"
  },
  "language_info": {
   "codemirror_mode": {
    "name": "ipython",
    "version": 3
   },
   "file_extension": ".py",
   "mimetype": "text/x-python",
   "name": "python",
   "nbconvert_exporter": "python",
   "pygments_lexer": "ipython3",
   "version": "3.12.4"
  }
 },
 "nbformat": 4,
 "nbformat_minor": 5
}
