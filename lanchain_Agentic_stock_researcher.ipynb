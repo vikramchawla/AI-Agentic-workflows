{
 "cells": [
  {
   "cell_type": "markdown",
   "id": "2c26845d",
   "metadata": {},
   "source": [
    "# Langchain Stock investment predictor"
   ]
  },
  {
   "cell_type": "markdown",
   "id": "4069a75e",
   "metadata": {},
   "source": [
    "## Agents"
   ]
  },
  {
   "cell_type": "code",
   "execution_count": 8,
   "id": "5e6ee719",
   "metadata": {},
   "outputs": [],
   "source": [
    "# make sure yoy have installed this package: pip install google-search-results\n",
    "# from secret_key import serpapi_key\n",
    "# os.environ['SERPAPI_API_KEY'] = serpapi_key\n",
    "import os\n",
    "os.environ['OPENAI_API_KEY'] = \"sk-projcTFBsT3BlbkFJ0UuxJouk76cODbvcJvWVHiYLvOd4wBJ5FB1WxHaxVCWizICc2iHf0A\"\n",
    "\n",
    "os.environ['SERPAPI_API_KEY'] = \"ef3198158e73278d35690a33c81ce1a6ed65cbab247cf97955794\""
   ]
  },
  {
   "cell_type": "markdown",
   "id": "471b2c6b",
   "metadata": {},
   "source": [
    "#### serpapi and llm-math tool"
   ]
  },
  {
   "cell_type": "code",
   "execution_count": 11,
   "id": "fec4212d",
   "metadata": {
    "scrolled": true
   },
   "outputs": [
    {
     "name": "stdout",
     "output_type": "stream",
     "text": [
      "\n",
      "\n",
      "\u001b[1m> Entering new AgentExecutor chain...\u001b[0m\n",
      "\u001b[32;1m\u001b[1;3m I should search for information about NVIDIA and TESLA stocks.\n",
      "Action: Search\n",
      "Action Input: \"NVIDIA vs TESLA stock growth\"\u001b[0m\n",
      "Observation: \u001b[36;1m\u001b[1;3m[' entity_type: related_questions.', \"Wall Street analysts in aggregate view Nvidia as a better buy than Tesla at current prices. Here's what investors should know. Where to invest ...\", 'Few stocks have been more popular than the artificial intelligence chip king Nvidia (NVDA 2.33%) and the electric carmaker Tesla (TSLA 2.41%), ...', \"Compared to chip designer Nvidia's (NVDA) more moderate 9.5% growth, it's tempting to conclude that Tesla is the better investment at this point ...\", 'NVIDIA is trading at a more expensive P/S valuation vs. Tesla and it makes sense to pay more for NVIDIA for a higher return.', 'Tesla Earnings Growth & TSLA Earnings Dates\\u200b\\u200b Analysts estimate an earnings decrease this quarter of $0.12 per share, an increase next quarter of $0.15 per share ...', 'Tesla Stock Slides ... Tesla (TSLA) skidded 5.7% Wednesday. The EV giant set an all-time high on Dec. 18, topping out at 488.53, but is around 45% off that high.', \"Hence, it's saying that Tesla's market cap will jump one-third higher than the required but fantastical $6.2 billion bogey for Nvidia in my “ ...\"]\u001b[0m\n",
      "Thought:\u001b[32;1m\u001b[1;3m I should compare the growth prospects of NVIDIA and TESLA stocks.\n",
      "Action: Calculator\n",
      "Action Input: NVIDIA growth = 9.5%, TESLA growth = -0.12%\u001b[0m\n",
      "Observation: \u001b[33;1m\u001b[1;3mAnswer: 1.093686\u001b[0m\n",
      "Thought:\u001b[32;1m\u001b[1;3m I should calculate the potential 10% growth for each stock.\n",
      "Action: Calculator\n",
      "Action Input: NVIDIA growth = 9.5%, TESLA growth = -0.12%\u001b[0m\n",
      "Observation: \u001b[33;1m\u001b[1;3mAnswer: 1.093686\u001b[0m\n",
      "Thought:\u001b[32;1m\u001b[1;3m I now know the final answer.\n",
      "Final Answer: Based on the information gathered, it seems that NVIDIA has a higher growth potential of 9.5% compared to TESLA's -0.12%. Therefore, NVIDIA may be a better option for short term 10% growth prospect.\u001b[0m\n",
      "\n",
      "\u001b[1m> Finished chain.\u001b[0m\n"
     ]
    },
    {
     "data": {
      "text/plain": [
       "\"Based on the information gathered, it seems that NVIDIA has a higher growth potential of 9.5% compared to TESLA's -0.12%. Therefore, NVIDIA may be a better option for short term 10% growth prospect.\""
      ]
     },
     "execution_count": 11,
     "metadata": {},
     "output_type": "execute_result"
    }
   ],
   "source": [
    "from langchain.agents import AgentType, initialize_agent, load_tools\n",
    "from langchain.llms import OpenAI\n",
    "\n",
    "llm = OpenAI(temperature=0)\n",
    "\n",
    "# The tools we'll give the Agent access to. Note that the 'llm-math' tool uses an LLM, so we need to pass that in.\n",
    "tools = load_tools([\"serpapi\", \"llm-math\"], llm=llm)\n",
    "\n",
    "# Finally, let's initialize an agent with the tools, the language model, and the type of agent we want to use.\n",
    "agent = initialize_agent(tools, llm, agent=AgentType.ZERO_SHOT_REACT_DESCRIPTION, verbose=True)\n",
    "\n",
    "# Let's test it out!\n",
    "agent.run(\"Which stock out of NVIDIA or TESLA makes sense for short term 10% growth prospect?\")"
   ]
  },
  {
   "cell_type": "code",
   "execution_count": null,
   "id": "5304533d-ee0b-4917-af60-0b2232eee7e4",
   "metadata": {},
   "outputs": [],
   "source": []
  },
  {
   "cell_type": "code",
   "execution_count": null,
   "id": "7ef4db72-c908-4222-8ab5-f50192ac24f8",
   "metadata": {},
   "outputs": [],
   "source": []
  },
  {
   "cell_type": "code",
   "execution_count": null,
   "id": "41ed92cb-9cb7-4894-ab44-d41f7f34c246",
   "metadata": {},
   "outputs": [],
   "source": []
  },
  {
   "cell_type": "code",
   "execution_count": null,
   "id": "83631b4d-886b-42d0-b31d-242c1bbad836",
   "metadata": {},
   "outputs": [],
   "source": []
  }
 ],
 "metadata": {
  "kernelspec": {
   "display_name": "Python 3 (ipykernel)",
   "language": "python",
   "name": "python3"
  },
  "language_info": {
   "codemirror_mode": {
    "name": "ipython",
    "version": 3
   },
   "file_extension": ".py",
   "mimetype": "text/x-python",
   "name": "python",
   "nbconvert_exporter": "python",
   "pygments_lexer": "ipython3",
   "version": "3.12.4"
  }
 },
 "nbformat": 4,
 "nbformat_minor": 5
}
